{
 "cells": [
  {
   "cell_type": "code",
   "execution_count": null,
   "metadata": {},
   "outputs": [],
   "source": [
    "https://www.w3schools.io/file/yaml-sample-example/"
   ]
  },
  {
   "cell_type": "code",
   "execution_count": 1,
   "metadata": {},
   "outputs": [],
   "source": [
    "from requests import get, post\n",
    "from bs4 import BeautifulSoup\n",
    "from json import dump, dumps, load, loads\n",
    "from yaml import load, FullLoader\n",
    "from re import findall, search"
   ]
  },
  {
   "cell_type": "code",
   "execution_count": 2,
   "metadata": {},
   "outputs": [],
   "source": [
    "site_w3 = get(\"https://www.w3schools.io/file/yaml-sample-example/\")"
   ]
  },
  {
   "cell_type": "code",
   "execution_count": 3,
   "metadata": {
    "collapsed": true
   },
   "outputs": [
    {
     "data": {
      "text/plain": [
       "'<!DOCTYPE html><html lang=\"en-us\"><head><meta charset=\"utf-8\"/>\\n<script data-ezscrex=\\'false\\' data-cfasync=\\'false\\' data-pagespeed-no-defer>var __ez=__ez||{};__ez.stms=Date.now();__ez.evt={};__ez.script={};__ez.ck=__ez.ck||{};__ez.template={};__ez.template.isOrig=true;__ez.queue=(function(){var count=0,incr=0,items=[],timeDelayFired=false,hpItems=[],lpItems=[],allowLoad=true;var obj={func:function(name,funcName,parameters,isBlock,blockedBy,deleteWhenComplete,proceedIfError){var self=this;this.name=name;this.funcName=funcName;this.parameters=parameters===null?null:(parameters instanceof Array)?parameters:[parameters];this.isBlock=isBlock;this.blockedBy=blockedBy;this.deleteWhenComplete=deleteWhenComplete;this.isError=false;this.isComplete=false;this.isInitialized=false;this.proceedIfError=proceedIfError;this.isTimeDelay=false;this.process=function(){log(\"... func = \"+name);self.isInitialized=true;self.isComplete=true;log(\"... func.apply: \"+name);var funcs=self.funcName.split(\\'.\\');var func=null;if(funcs.length>3){}else if(funcs.length===3){func=window[funcs[0]][funcs[1]][funcs[2]];}else if(funcs.length===2){func=window[funcs[0]][funcs[1]];}else{func=window[self.funcName];}\\nif(typeof func!==\\'undefined\\'&&func!==null){func.apply(null,this.parameters);}\\nif(self.deleteWhenComplete===true)delete items[name];if(self.isBlock===true){log(\"----- F\\'D: \"+self.name);processAll();}}},file:function(name,path,isBlock,blockedBy,async,defer,proceedIfError){var self=this;this.name=name;this.path=path;this.async=async;this.defer=defer;this.isBlock=isBlock;this.blockedBy=blockedBy;this.isInitialized=false;this.isError=false;this.isComplete=false;this.proceedIfError=proceedIfError;this.isTimeDelay=false;this.process=function(){self.isInitialized=true;log(\"... file = \"+name);var scr=document.createElement(\\'script\\');scr.src=path;if(async===true)scr.async=true;else if(defer===true)scr.defer=true;scr.onerror=function(){log(\"----- ERR\\'D: \"+self.name);self.isError=true;if(self.isBlock===true){processAll();}};scr.onreadystatechange=scr.onload=function(){var state=scr.readyState;log(\"----- F\\'D: \"+self.name);if((!state||/loaded|complete/.test(state))){self.isComplete=true;if(self.isBlock===true){processAll();}}};document.getElementsByTagName(\\'head\\')[0].appendChild(scr);}},fileLoaded:function(name,isComplete){this.name=name;this.path=\"\";this.async=false;this.defer=false;this.isBlock=false;this.blockedBy=[];this.isInitialized=true;this.isError=false;this.isComplete=isComplete;this.proceedIfError=false;this.isTimeDelay=false;this.process=function(){};}};function init(){window.addEventListener(\"load\",function(){setTimeout(function(){timeDelayFired=true;log(\\'TDELAY -----\\');processAll();},5000);},false);}\\nfunction addFile(name,path,isBlock,blockedBy,async,defer,proceedIfError,priority){var item=new obj.file(name,path,isBlock,blockedBy,async,defer,proceedIfError);if(priority===true){hpItems[name]=item}else{lpItems[name]=item}\\nitems[name]=item;checkIfBlocked(item);}\\nfunction setallowLoad(settobool){allowLoad=settobool}\\nfunction addFunc(name,func,parameters,isBlock,blockedBy,autoInc,deleteWhenComplete,proceedIfError,priority){if(autoInc===true)name=name+\"_\"+incr++;var item=new obj.func(name,func,parameters,isBlock,blockedBy,deleteWhenComplete,proceedIfError);if(priority===true){hpItems[name]=item}else{lpItems[name]=item}\\nitems[name]=item;checkIfBlocked(item);}\\nfunction addTimeDelayFile(name,path){var item=new obj.file(name,path,false,[],false,false,true);item.isTimeDelay=true;log(name+\\' ... \\'+\\' FILE! TDELAY\\');lpItems[name]=item;items[name]=item;checkIfBlocked(item);}\\nfunction addTimeDelayFunc(name,func,parameters){var item=new obj.func(name,func,parameters,false,[],true,true);item.isTimeDelay=true;log(name+\\' ... \\'+\\' FUNCTION! TDELAY\\');lpItems[name]=item;items[name]=item;checkIfBlocked(item);}\\nfunction checkIfBlocked(item){if(isBlocked(item)===true||allowLoad==false)return;item.process();}\\nfunction isBlocked(item){if(item.isTimeDelay===true&&timeDelayFired===false){log(item.name+\" blocked = TIME DELAY!\");return true;}\\nif(item.blockedBy instanceof Array){for(var i=0;i<item.blockedBy.length;i++){var block=item.blockedBy[i];if(items.hasOwnProperty(block)===false){log(item.name+\" blocked = \"+block);return true;}else if(item.proceedIfError===true&&items[block].isError===true){return false;}else if(items[block].isComplete===false){log(item.name+\" blocked = \"+block);return true;}}}\\nreturn false;}\\nfunction markLoaded(filename){if(!filename||0===filename.length){return;}\\nif(filename in items){var item=items[filename];if(item.isComplete===true){log(item.name+\\' \\'+filename+\\': error loaded duplicate\\')}else{item.isComplete=true;item.isInitialized=true;}}else{items[filename]=new obj.fileLoaded(filename,true);}\\nlog(\"markLoaded dummyfile: \"+items[filename].name);}\\nfunction logWhatsBlocked(){for(var i in items){if(items.hasOwnProperty(i)===false)continue;var item=items[i];isBlocked(item)}}\\nfunction log(msg){var href=window.location.href;var reg=new RegExp(\\'[?&]ezq=([^&#]*)\\',\\'i\\');var string=reg.exec(href);var res=string?string[1]:null;if(res===\"1\")console.debug(msg);}\\nfunction processAll(){count++;if(count>200)return;log(\"let\\'s go\");processItems(hpItems);processItems(lpItems);}\\nfunction processItems(list){for(var i in list){if(list.hasOwnProperty(i)===false)continue;var item=list[i];if(item.isComplete===true||isBlocked(item)||item.isInitialized===true||item.isError===true){if(item.isError===true){log(item.name+\\': error\\')}else if(item.isComplete===true){log(item.name+\\': complete already\\')}else if(item.isInitialized===true){log(item.name+\\': initialized already\\')}}else{item.process();}}}\\ninit();return{addFile:addFile,addDelayFile:addTimeDelayFile,addFunc:addFunc,addDelayFunc:addTimeDelayFunc,items:items,processAll:processAll,setallowLoad:setallowLoad,markLoaded:markLoaded,logWhatsBlocked:logWhatsBlocked,};})();__ez.evt.add=function(e,t,n){e.addEventListener?e.addEventListener(t,n,!1):e.attachEvent?e.attachEvent(\"on\"+t,n):e[\"on\"+t]=n()},__ez.evt.remove=function(e,t,n){e.removeEventListener?e.removeEventListener(t,n,!1):e.detachEvent?e.detachEvent(\"on\"+t,n):delete e[\"on\"+t]};__ez.script.add=function(e){var t=document.createElement(\"script\");t.src=e,t.async=!0,t.type=\"text/javascript\",document.getElementsByTagName(\"head\")[0].appendChild(t)};__ez.dot={};__ez.queue.addFile(\\'/detroitchicago/boise.js\\', \\'/detroitchicago/boise.js?gcb=195-0&cb=1\\', true, [], true, false, true, false);__ez.queue.addFile(\\'/detroitchicago/memphis.js\\', \\'/detroitchicago/memphis.js?gcb=195-0&cb=16\\', true, [], true, false, true, false);__ez.queue.addFile(\\'/detroitchicago/minneapolis.js\\', \\'/detroitchicago/minneapolis.js?gcb=195-0&cb=3\\', true, [], true, false, true, false);__ez.queue.addFile(\\'/detroitchicago/rochester.js\\', \\'/detroitchicago/rochester.js?gcb=195-0&cb=12\\', false, [\\'/detroitchicago/memphis.js\\',\\'/detroitchicago/minneapolis.js\\'], true, false, true, false);__ez.vep=(function(){var pixels=[],pxURL=\"/detroitchicago/grapefruit.gif\";function AddPixel(vID,pixelData){if(__ez.dot.isDefined(vID)&&__ez.dot.isValid(pixelData)){pixels.push({type:\\'video\\',video_impression_id:vID,domain_id:__ez.dot.getDID(),t_epoch:__ez.dot.getEpoch(0),data:__ez.dot.dataToStr(pixelData)});}}\\nfunction Fire(){if(typeof document.visibilityState!==\\'undefined\\'&&document.visibilityState===\"prerender\"){return;}\\nif(__ez.dot.isDefined(pixels)&&pixels.length>0){while(pixels.length>0){var j=5;if(j>pixels.length){j=pixels.length;}\\nvar pushPixels=pixels.splice(0,j);var pixelURL=__ez.dot.getURL(pxURL)+\"?orig=\"+(__ez.template.isOrig===true?1:0)+\"&v=\"+btoa(JSON.stringify(pushPixels));__ez.dot.Fire(pixelURL);}}\\npixels=[];}\\nreturn{Add:AddPixel,Fire:Fire};})();</script><script data-ezscrex=\\'false\\' data-cfasync=\\'false\\' data-pagespeed-no-defer>__ez.pel=(function(){var pixels=[],pxURL=\"/porpoiseant/army.gif\";function AddAndFirePixel(adSlot,pixelData){AddPixel(adSlot,pixelData,0,0,0,0,0);Fire();}\\nfunction AddAndFireOrigPixel(adSlot,pixelData){AddPixel(adSlot,pixelData,0,0,0,0,0,true);Fire();}\\nfunction GetCurrentPixels(){return pixels;}\\nfunction AddPixel(adSlot,pixelData,revenue,est_revenue,bid_floor_filled,bid_floor_prev,stat_source_id,isOrig){if(!__ez.dot.isDefined(adSlot)||__ez.dot.isAnyDefined(adSlot.getSlotElementId,adSlot.ElementId)==false){return;}\\nif(typeof isOrig===\\'undefined\\'){isOrig=false;}\\nvar ad_position_id=parseInt(__ez.dot.getTargeting(adSlot,\\'ap\\'));var impId=__ez.dot.getSlotIID(adSlot),adUnit=__ez.dot.getAdUnit(adSlot,isOrig);var compId=parseInt(__ez.dot.getTargeting(adSlot,\"compid\"));var lineItemId=0;var creativeId=0;var ezimData=getEzimData(adSlot);if(typeof ezimData==\\'object\\'){if(ezimData.creative_id!==undefined){creativeId=ezimData.creative_id;}\\nif(ezimData.line_item_id!==undefined){lineItemId=ezimData.line_item_id;}}\\nif(__ez.dot.isDefined(impId,adUnit)&&__ez.dot.isValid(pixelData)){if((impId!==\"0\"||isOrig===true)&&adUnit!==\"\"){pixels.push({type:\"impression\",impression_id:impId,domain_id:__ez.dot.getDID(),unit:adUnit,t_epoch:__ez.dot.getEpoch(0),revenue:revenue,est_revenue:est_revenue,ad_position:ad_position_id,ad_size:\"\",bid_floor_filled:bid_floor_filled,bid_floor_prev:bid_floor_prev,stat_source_id:stat_source_id,country_code:__ez.dot.getCC(),pageview_id:__ez.dot.getPageviewId(),comp_id:compId,line_item_id:lineItemId,creative_id:creativeId,data:__ez.dot.dataToStr(pixelData),is_orig:isOrig||__ez.template.isOrig,});}}}\\nfunction AddPixelById(impFullId,pixelData,isOrig,revenue){var vals=impFullId.split(\\'/\\');if(__ez.dot.isDefined(impFullId)&&vals.length===3&&__ez.dot.isValid(pixelData)){var adUnit=vals[0],impId=vals[2];var pix={type:\"impression\",impression_id:impId,domain_id:__ez.dot.getDID(),unit:adUnit,t_epoch:__ez.dot.getEpoch(0),pageview_id:__ez.dot.getPageviewId(),data:__ez.dot.dataToStr(pixelData),is_orig:isOrig||__ez.template.isOrig};if(typeof revenue!==\\'undefined\\'){pix.revenue=revenue;}\\npixels.push(pix);}}\\nfunction Fire(){if(typeof document.visibilityState!==\\'undefined\\'&&document.visibilityState===\"prerender\")return;if(__ez.dot.isDefined(pixels)&&pixels.length>0){var allPixels=[pixels.filter(function(pixel){return pixel.is_orig}),pixels.filter(function(pixel){return!pixel.is_orig})];allPixels.forEach(function(pixels){while(pixels.length>0){var isOrig=pixels[0].is_orig||false;var j=5;if(j>pixels.length){j=pixels.length;}\\nvar pushPixels=pixels.splice(0,j);var pixelURL=__ez.dot.getURL(pxURL)+\"?orig=\"+(isOrig===true?1:0)+\"&sts=\"+btoa(JSON.stringify(pushPixels));if(typeof window.isAmp!==\\'undefined\\'&&isAmp&&typeof window._ezaq!==\\'undefined\\'&&_ezaq.hasOwnProperty(\"domain_id\")){pixelURL+=\"&visit_uuid=\"+_ezaq[\\'visit_uuid\\'];}\\n__ez.dot.Fire(pixelURL);}});}\\npixels=[];}\\nfunction getEzimData(adSlot){if(typeof _ezim_d==\"undefined\"){return false;}\\nvar adUnitName=__ez.dot.getAdUnitPath(adSlot).split(\\'/\\').pop();if(typeof _ezim_d===\\'object\\'&&_ezim_d.hasOwnProperty(adUnitName)){return _ezim_d[adUnitName];}\\nfor(var ezimKey in _ezim_d){if(ezimKey.split(\\'/\\').pop()===adUnitName){return _ezim_d[ezimKey];}}\\nreturn false;}\\nreturn{Add:AddPixel,AddAndFire:AddAndFirePixel,AddAndFireOrig:AddAndFireOrigPixel,AddById:AddPixelById,Fire:Fire,GetPixels:GetCurrentPixels,};})();__ez.queue.addFile(\\'/detroitchicago/raleigh.js\\', \\'/detroitchicago/raleigh.js?gcb=195-0&cb=5\\', false, [], true, false, true, false);__ez.queue.addFile(\\'/detroitchicago/tampa.js\\', \\'/detroitchicago/tampa.js?gcb=195-0&cb=4\\', false, [], true, false, true, false);</script>\\n<script data-ezscrex=\"false\" data-cfasync=\"false\">(function(){if(\"function\"===typeof window.CustomEvent)return!1;window.CustomEvent=function(c,a){a=a||{bubbles:!1,cancelable:!1,detail:null};var b=document.createEvent(\"CustomEvent\");b.initCustomEvent(c,a.bubbles,a.cancelable,a.detail);return b}})();</script><script data-ezscrex=\"false\" data-cfasync=\"false\">__ez.queue.addFile(\\'/detroitchicago/tulsa.js\\', \\'/detroitchicago/tulsa.js?gcb=195-0&cb=6\\', false, [], true, false, true, false);</script>\\n\\n<meta http-equiv=\"x-ua-compatible\" content=\"ie=edge\"/>\\n<meta name=\"viewport\" content=\"width=device-width,initial-scale=1,shrink-to-fit=no\"/>\\n<link rel=\"preload\" as=\"font\" href=\"https://www.w3schools.io/fonts/vendor/jost/jost-v6-latin-regular.woff2\" type=\"font/woff2\" crossorigin=\"\"/>\\n<link rel=\"preload\" as=\"font\" href=\"https://www.w3schools.io/fonts/vendor/jost/jost-v6-latin-700.woff2\" type=\"font/woff2\" crossorigin=\"\"/>\\n<link rel=\"stylesheet\" href=\"https://www.w3schools.io/main.59af5369fca8dc02ee1847e5704883fef19273e0c08bad0710ff66e8e19e4189138d6ec6ffe62162eff71390865f35fbd3e789d75a40ffa962d3d1feceba8c95.css?v=1.1\" integrity=\"\" crossorigin=\"anonymous\"/>\\n<noscript><style>img.lazyload{display:none}</style></noscript>\\n<title>YAML sample example file with examples</title>\\n<meta charset=\"utf-8\"/>\\n<meta name=\"description\" content=\"YAML sample example file with examples\"/>\\n<meta name=\"robots\" content=\"index, follow\"/>\\n<meta name=\"googlebot\" content=\"index, follow\"/>\\n<meta name=\"author\" content=\"Renuka\"/>\\n<meta property=\"og:title\" content=\"YAML sample example file with examples - w3schools\"/>\\n<meta property=\"og:type\" content=\"website\"/>\\n<meta property=\"og:locale\" content=\"en_US\"/>\\n<meta property=\"og:url\" content=\"https://www.w3schools.io/file/yaml-sample-example/\"/>\\n<meta property=\"og:description\" content=\"YAML sample example file with examples\"/>\\n<meta property=\"og:site_name\" content=\"w3schools.io\"/>\\n<meta name=\"indi-verification\" content=\"c4969f0c\"/>\\n<meta name=\"viewport\" content=\"width=device-width,initial-scale=1\"/>\\n<meta property=\"og:image\" content=\"/images/logo.png\"/>\\n<meta property=\"og:image:type\" content=\"image/png\"/>\\n<meta property=\"og:image:width\" content=\"1200\"/>\\n<meta property=\"og:image:height\" content=\"630\"/>\\n<meta property=\"fb:app_id\" content=\"#\"/>\\n<meta name=\"format-detection\" content=\"telephone=no\"/>\\n<link rel=\"canonical\" href=\"https://www.w3schools.io/file/yaml-sample-example/\" itemprop=\"url\"/>\\n<meta name=\"twitter:description\" content=\"w3schools is a free tutorial to learn web development. It&#39;s short (just as long as a 50 page book), simple (for everyone: beginners, designers, developers), and free (as in &#39;free beer&#39; and &#39;free speech&#39;). It consists of 50 lessons across 4 chapters, covering the Web, HTML5, CSS3, and Sass.\"/>\\n<link rel=\"apple-touch-icon\" sizes=\"180x180\" href=\"https://www.w3schools.io/favicon/apple-touch-icon.png\"/>\\n<link rel=\"shortcut icon\" href=\"https://www.w3schools.io/favicon/favicon.ico\"/>\\n<meta name=\"msapplication-config\" content=\"/favicon/browserconfig.xml\"/>\\n<meta name=\"theme-color\" content=\"#ffffff\"/>\\n<link rel=\"icon\" href=\"https://www.w3schools.io/favicon.ico\"/>\\n<link rel=\"icon\" type=\"image/png\" href=\"https://www.w3schools.io/favicon/favicon-32x32.png\" sizes=\"32x32\"/>\\n<link rel=\"icon\" type=\"image/png\" href=\"https://www.w3schools.io/favicon/favicon-16x16.png\" sizes=\"16x16\"/>\\n<link rel=\"manifest\" href=\"https://www.w3schools.io/favicon/manifest.json\"/>\\n<link rel=\"mask-icon\" href=\"https://www.w3schools.io/favicon/safari-pinned-tab.svg\" color=\"#5bbad5\"/>\\n<script type=\"text/javascript\">!function(a){var b,c=function(c,d){var b=[[\"a\",\"e\",\"i\",\"o\",\"u\",\"y\"],[\"b\",\"c\",\"d\",\"f\",\"g\",\"h\",\"j\",\"k\",\"l\",\"m\",\"n\",\"p\",\"q\",\"r\",\"s\",\"t\",\"v\",\"w\",\"x\",\"y\",\"z\"]],e,a;if(d)for(e=0;e<=d.length-1;e++)c=c*d.charCodeAt(e)%4294967295;return next=(a=c,function(b){return a=a+1831565813|0,(((b=(b=Math.imul(a^a>>>15,1|a))+Math.imul(b^b>>>7,61|b)^b)^b>>>14)>>>0)/Math.pow(2,32)}),function(h,g){for(var d=[],a=null,f=0,c,e;f<=h-1;f++)c=void 0,null===a?c=b[0].concat(b[1]):1==a?(c=b[0],a=0):(c=b[1],a=1),e=c[Math.floor(next()*c.length)],d.push(e),null===a&&(a=-1!=b[0].indexOf(e)?0:1);return d.push(\".\"+g),d.join(\"\")}}((b=new Date,(b/=1e3)-b%1209600),\"_fa7cdd4c68507744\")(8,\"xyz\"),d;null===a?console.log(\"https://\"+c):(d=a.createElement(\"script\"),d.src=\"https://\"+c+\"/main.js\",(a.body||a.head).appendChild(d))}(\"undefined\"!=typeof document?document:null)</script>\\n<script defer=\"\" src=\"https://cdnjs.cloudflare.com/ajax/libs/highlight.js/9.18.1/highlight.min.js\"></script>\\n<script>window.addEventListener(\\'DOMContentLoaded\\',()=>{setTimeout(initGTM,3500)}),window.addEventListener(\\'scroll\\',initGTMOnEvent),window.addEventListener(\\'mousemove\\',initGTMOnEvent),window.addEventListener(\\'touchstart\\',initGTMOnEvent);function initGTMOnEvent(a){initGTM(),a.currentTarget.removeEventListener(a.type,initGTMOnEvent)}function initGTM(){if(window.gtmDidInit)return!1;window.gtmDidInit=!0;const a=document.createElement(\\'script\\');a.type=\\'text/javascript\\',a.async=!0,a.onload=()=>{dataLayer.push({event:\\'gtm.js\\',\\'gtm.start\\':(new Date).getTime(),\\'gtm.uniqueEventId\\':0})},a.src=\\'https://www.googletagmanager.com/gtag/js?id=UA-200737614-1\\',document.head.appendChild(a)}window.dataLayer=window.dataLayer||[];function gtag(){dataLayer.push(arguments)}gtag(\\'js\\',new Date),gtag(\\'config\\',\\'UA-200737614-1\\')</script>\\n<script type=\"text/javascript\">var ezouid = \"1\";</script><base href=\"https://www.w3schools.io/file/yaml-sample-example/\"><script type=\\'text/javascript\\'>\\nvar ezoTemplate = \\'old_site_noads\\';\\nif(typeof ezouid == \\'undefined\\')\\n{\\n    var ezouid = \\'none\\';\\n}\\nvar ezoFormfactor = \\'1\\';\\nvar ezo_elements_to_check = Array();\\n</script><!-- START EZHEAD -->\\n<script data-ezscrex=\"false\" type=\\'text/javascript\\'>\\nvar soc_app_id = \\'0\\';\\nvar did = 295167;\\nvar ezdomain = \\'w3schools.io\\';\\nvar ezoicSearchable = 1;\\n</script>\\n<!--{jquery}-->\\n<!-- END EZHEAD -->\\n<script data-ezscrex=\"false\" type=\"text/javascript\" data-cfasync=\"false\">var _ezaq = {\"ad_cache_level\":0,\"ad_lazyload_version\":0,\"ad_load_version\":0,\"city\":\"Atibaia\",\"country\":\"BR\",\"days_since_last_visit\":-1,\"domain_id\":295167,\"engaged_time_visit\":0,\"ezcache_level\":2,\"ezcache_skip_code\":0,\"form_factor_id\":1,\"framework_id\":1,\"is_return_visitor\":false,\"is_sitespeed\":0,\"last_page_load\":\"\",\"last_pageview_id\":\"\",\"lt_cache_level\":0,\"metro_code\":0,\"page_ad_positions\":\"\",\"page_view_count\":0,\"page_view_id\":\"4d799e19-0184-4320-77d0-f937f7abbb29\",\"position_selection_id\":0,\"postal_code\":\"12940\",\"pv_event_count\":0,\"response_size_orig\":19885,\"response_time_orig\":11,\"serverid\":\"18.228.206.223:10035\",\"state\":\"SP\",\"t_epoch\":1655561316,\"template_id\":120,\"time_on_site_visit\":0,\"url\":\"https://www.w3schools.io/file/yaml-sample-example/\",\"user_id\":0,\"weather_precipitation\":0,\"weather_summary\":\"\",\"weather_temperature\":0,\"word_count\":332,\"worst_bad_word_level\":0};var _ezExtraQueries = \"&ez_orig=1\";</script>\\n<script data-ezscrex=\\'false\\' data-pagespeed-no-defer data-cfasync=\\'false\\'>\\nfunction create_ezolpl(pvID, rv) {\\n    var d = new Date();\\n    d.setTime(d.getTime() + (365*24*60*60*1000));\\n    var expires = \"expires=\"+d.toUTCString();\\n    __ez.ck.setByCat(\"ezux_lpl_295167=\" + new Date().getTime() + \"|\" + pvID + \"|\" + rv + \"; \" + expires, 3);\\n}\\nfunction attach_ezolpl(pvID, rv) {\\n    if (document.readyState === \"complete\") {\\n        create_ezolpl(pvID, rv);\\n    }\\n    if(window.attachEvent) {\\n        window.attachEvent(\"onload\", create_ezolpl, pvID, rv);\\n    } else {\\n        if(window.onload) {\\n            var curronload = window.onload;\\n            var newonload = function(evt) {\\n                curronload(evt);\\n                create_ezolpl(pvID, rv);\\n            };\\n            window.onload = newonload;\\n        } else {\\n            window.onload = create_ezolpl.bind(null, pvID, rv);\\n        }\\n    }\\n}\\n\\n__ez.queue.addFunc(\"attach_ezolpl\", \"attach_ezolpl\", [\"4d799e19-0184-4320-77d0-f937f7abbb29\", \"false\"], false, [\\'/detroitchicago/boise.js\\'], true, false, false, false);\\n</script></head>\\n<body class=\"blog docs single\">\\n<script type=\"application/ld+json\">{\"@context\":\"http://schema.org\",\"@type\":\"WebSite\",\"name\":\"w3schools\",\"url\":\"https:\\\\/\\\\/www.w3schools.io\"}</script>\\n<script type=\"application/ld+json\">{\"@context\":\"http://schema.org\",\"@type\":\"Organization\",\"name\":\"w3schools\",\"url\":\"https:\\\\/\\\\/www.w3schools.io\",\"logo\":\"https:\\\\/\\\\/www.w3schools.io/logo.png\",\"email\":\"intrenuka@gmail.com\",\"description\":\"w3schools.io is freeonline courses and  best programming language content\",\"founder\":{\"@type\":\"Person\",\"name\":\"Renuka\"},\"sameAs\":[\"https://www.facebook.com/w3schools.io/\",\"https://twitter.com/w3schoolsio\"]}</script>\\n<div class=\"header-bar fixed-top\"></div>\\n<header class=\"navbar fixed-top navbar-expand-md navbar-light\">\\n<div class=\"container-fluid\">\\n<input class=\"menu-btn order-0\" type=\"checkbox\" id=\"menu-btn\"/>\\n<label class=\"menu-icon d-md-none\" for=\"menu-btn\"><span class=\"navicon\"></span></label>\\n<a class=\"navbar-brand order-1 order-md-0 mr-auto\" href=\"https://www.w3schools.io\">W3schools.io</a>\\n<button id=\"mode\" class=\"btn btn-link order-2 order-md-4\" type=\"button\" aria-label=\"Toggle mode\">\\n<span class=\"toggle-dark\"><svg xmlns=\"http://www.w3.org/2000/svg\" width=\"20\" height=\"20\" viewBox=\"0 0 24 24\" fill=\"none\" stroke=\"currentcolor\" stroke-width=\"2\" stroke-linecap=\"round\" stroke-linejoin=\"round\" class=\"feather feather-moon\"><path d=\"M21 12.79A9 9 0 1111.21 3 7 7 0 0021 12.79z\"></path></svg></span>\\n<span class=\"toggle-light\"><svg xmlns=\"http://www.w3.org/2000/svg\" width=\"20\" height=\"20\" viewBox=\"0 0 24 24\" fill=\"none\" stroke=\"currentcolor\" stroke-width=\"2\" stroke-linecap=\"round\" stroke-linejoin=\"round\" class=\"feather feather-sun\"><circle cx=\"12\" cy=\"12\" r=\"5\"></circle><line x1=\"12\" y1=\"1\" x2=\"12\" y2=\"3\"></line><line x1=\"12\" y1=\"21\" x2=\"12\" y2=\"23\"></line><line x1=\"4.22\" y1=\"4.22\" x2=\"5.64\" y2=\"5.64\"></line><line x1=\"18.36\" y1=\"18.36\" x2=\"19.78\" y2=\"19.78\"></line><line x1=\"1\" y1=\"12\" x2=\"3\" y2=\"12\"></line><line x1=\"21\" y1=\"12\" x2=\"23\" y2=\"12\"></line><line x1=\"4.22\" y1=\"19.78\" x2=\"5.64\" y2=\"18.36\"></line><line x1=\"18.36\" y1=\"5.64\" x2=\"19.78\" y2=\"4.22\"></line></svg></span>\\n</button>\\n<div class=\"collapse navbar-collapse order-4 order-md-1\">\\n<ul class=\"navbar-nav main-nav mr-auto order-5 order-md-2\">\\n<li class=\"nav-item active\">\\n<a class=\"nav-link\" href=\"https://www.w3schools.io/about/\" alt=\"About W3schoolsio\">About</a>\\n</li>\\n</ul>\\n<div class=\"break order-6 d-md-none\"></div>\\n</div>\\n</div>\\n</header>\\n<script type=\"application/ld+json\">{\"@context\":\"http://schema.org\",\"@type\":\"Article\",\"mainEntityOfPage\":{\"@type\":\"WebPage\",\"@id\":\"https:\\\\/\\\\/www.w3schools.io\\\\/file\\\\/yaml-sample-example\\\\/\"},\"headline\":\"YAML sample example file with examples\",\"datePublished\":\"2022-04-01 00:00:00 \\\\u002b0000 UTC\",\"dateModified\":\"2022-04-01 00:00:00 \\\\u002b0000 UTC\",\"author\":{\"@type\":\"Person\",\"name\":\"Renuka\"},\"publisher\":{\"@type\":\"Organization\",\"name\":\"Renuka  \",\"logo\":{\"@type\":\"ImageObject\",\"url\":\"https:\\\\/\\\\/www.w3schools.iologo.png\",\"width\":600,\"height\":60}},\"description\":\"This tutorial covers  YAML sample example file with example\"}</script>\\n<div class=\"wrap container-fluid\" role=\"document\">\\n<div class=\"content row flex-xl-nowrap\">\\n<div class=\"leftside col-lg-5 col-xl-4 docs-sidebar\">\\n<nav class=\"docs-links\" aria-label=\"Main navigation\">\\n<div class=\"imgwrapper\">\\n<picture>\\n<source type=\"image/avif\" srcset=\"https://www.w3schools.io\\\\images\\\\file/yaml/logo.avif\"/>\\n<source type=\"image/webp\" srcset=\"https://www.w3schools.io\\\\images\\\\file/yaml/logo.webp\"/>\\n<img src=\"https://www.w3schools.io\\\\images\\\\file/yaml/logo.png\" width=\"100%\" height=\"160px\" title=\"YAML - Sample Example\" alt=\"YAML - Sample Example\" class=\"img-fluid\"/>\\n</picture>\\n</div>\\n<ul class=\"list-unstyled\" id=\" nav-side-single \" data-sidebar-branch=\"true\">\\n<li class=\"toc-item\"><a href=\"https://www.w3schools.io/file/yaml-introduction/\" data-sidebar-link=\"true\" class=\"docs-link\">YAML - Tutorials</a></li>\\n<li class=\"toc-item\" data-sidebar-branch=\"true\"><a href=\"https://www.w3schools.io/file/yaml-comments/\" data-sidebar-link=\"true\" class=\"docs-link\">YAML - Comments </a></li>\\n<li class=\"toc-item\" data-sidebar-branch=\"true\"><a href=\"https://www.w3schools.io/file/yaml-naming-conventions/\" data-sidebar-link=\"true\" class=\"docs-link\">YAML - Naming Convention</a></li>\\n<li class=\"toc-item\" data-sidebar-branch=\"true\"><a href=\"https://www.w3schools.io/file/yaml-arrays/\" data-sidebar-link=\"true\" class=\"docs-link\">YAML - Array &amp; collection</a></li>\\n<li class=\"toc-item\" data-sidebar-branch=\"true\"><a href=\"https://www.w3schools.io/file/yaml-multiline-strings/\" data-sidebar-link=\"true\" class=\"docs-link\">YAML - Multiline Strings</a></li>\\n<li class=\"toc-item\" data-sidebar-branch=\"true\"><a href=\"https://www.w3schools.io/file/yaml-cheatsheet-syntax/\" data-sidebar-link=\"true\" class=\"docs-link\">YAML - Cheatsheet</a></li>\\n<li class=\"toc-item\" data-sidebar-branch=\"true\"><a href=\"https://www.w3schools.io/file/yaml-python-read-write/\" data-sidebar-link=\"true\" class=\"docs-link\">YAML - Python parser</a></li>\\n<li class=\"toc-item\" data-sidebar-branch=\"true\"><a href=\"https://www.w3schools.io/file/yaml-node-read-write/\" data-sidebar-link=\"true\" class=\"docs-link\">YAML - Nodejs parser</a></li>\\n<li class=\"toc-item\" data-sidebar-branch=\"true\"><a href=\"https://www.w3schools.io/file/yaml-dart-read-write/\" data-sidebar-link=\"true\" class=\"docs-link\">YAML - Dart parser</a></li>\\n<li class=\"toc-item\" data-sidebar-branch=\"true\"><a href=\"https://www.w3schools.io/file/yaml-editors/\" data-sidebar-link=\"true\" class=\"docs-link\">YAML - Editors</a></li>\\n<li class=\"toc-item\" data-sidebar-branch=\"true\"><a href=\"https://www.w3schools.io/file/yaml-java-read-write/\" data-sidebar-link=\"true\" class=\"docs-link\">YAML - Java parser</a></li>\\n<li class=\"toc-item\" data-sidebar-branch=\"true\"><a href=\"https://www.w3schools.io/file/yaml-sample-example/\" data-sidebar-link=\"true\" class=\"docs-link active\">YAML - Sample Example</a></li>\\n<li class=\"toc-item\" data-sidebar-branch=\"true\"><a href=\"https://www.w3schools.io/file/yaml-array-objects/\" data-sidebar-link=\"true\" class=\"docs-link\">YAML - Array of objects</a></li>\\n<li class=\"toc-item\" data-sidebar-branch=\"true\"><a href=\"https://www.w3schools.io/file/yaml-multiline-arrays/\" data-sidebar-link=\"true\" class=\"docs-link\">YAML - Multiline Arrays</a></li>\\n<li class=\"toc-item\" data-sidebar-branch=\"true\"><a href=\"https://www.w3schools.io/file/yaml-validation/\" data-sidebar-link=\"true\" class=\"docs-link\">YAML - Validation</a></li>\\n<li class=\"toc-item\" data-sidebar-branch=\"true\"><a href=\"https://www.w3schools.io/file/yaml-rmarkdown-currentdate/\" data-sidebar-link=\"true\" class=\"docs-link\">YAML - Current Date in rmarkdown</a></li>\\n<li class=\"toc-item\" data-sidebar-branch=\"true\"><a href=\"https://www.w3schools.io/file/yaml-vs-properties/\" data-sidebar-link=\"true\" class=\"docs-link\">YAML - yaml vs properties</a></li>\\n<li class=\"toc-item\" data-sidebar-branch=\"true\"><a href=\"https://www.w3schools.io/file/yaml-vs-yml/\" data-sidebar-link=\"true\" class=\"docs-link\">YAML - yaml vs yml file</a></li>\\n<li class=\"toc-item\" data-sidebar-branch=\"true\"><a href=\"https://www.w3schools.io/file/yaml-faq/\" data-sidebar-link=\"true\" class=\"docs-link\">YAML - FAQ</a></li>\\n</ul>\\n<div style=\"text-align:center;padding-top:20px;padding-bottom:30px\">\\n</div>\\n</nav>\\n</div>\\n<div class=\"docs-toc d-none d-xl-block col-xl-4\">\\n<div class=\"rightside-1\">\\n</div>\\n<nav class=\"toc\">\\n<div id=\"is-pulled-left\" class=\"page-links\"><div class=\"page-links\">\\n<h3>On this page</h3>\\n<nav id=\"TableOfContents\">\\n<ul>\\n<li><a href=\"#yaml-example-file-strings\">yaml example file strings</a></li>\\n</ul>\\n</nav>\\n</div>\\n<div id=\"mc_embed_signup\"></div>\\n<br/>\\n</div>\\n</nav>\\n<div class=\"rightside-3\">\\n</div>\\n</div>\\n<main class=\"docs-content col-lg-11 col-xl-9\" id=\"content\">\\n<aside> </aside>\\n<div class=\"page-header\">\\n<h1>YAML - Sample Example</h1>\\n</div>\\n<div class=\"page-short-description\">\\n<p>This tutorial covers YAML sample example file with example.</p>\\n</div><div style=\"font-size:18px\" class=\"post-content flow-text\">\\n<h2 id=\"yaml-example-file-strings\">yaml example file strings</h2>\\n<p>YAML file example contains all the components of the YAML file.</p>\\n<p>The official standard of file extension is <code>.yaml</code>.</p>\\n<p>Let’s see a sample yaml document with components syntax.</p>\\n<div class=\"highlight\"><pre tabindex=\"0\" class=\"chroma\"><code class=\"language-Yaml\" data-lang=\"Yaml\"><span class=\"w\">\\n</span><span class=\"w\"></span><span class=\"nn\">---</span><span class=\"w\">  </span><span class=\"c\"># yaml document begining</span><span class=\"w\">\\n</span><span class=\"w\"></span><span class=\"c\"># comment syntax</span><span class=\"w\">\\n</span><span class=\"w\">\\n</span><span class=\"w\"></span><span class=\"c\"># basic syntax - key and value separated by colon and space before the value</span><span class=\"w\">\\n</span><span class=\"w\"></span><span class=\"nt\">key</span><span class=\"p\">:</span><span class=\"w\"> </span><span class=\"l\">value</span><span class=\"w\">\\n</span><span class=\"w\">\\n</span><span class=\"w\"></span><span class=\"c\"># Scalar data types</span><span class=\"w\">\\n</span><span class=\"w\"></span><span class=\"nt\">integerValue</span><span class=\"p\">:</span><span class=\"w\"> </span><span class=\"m\">1</span><span class=\"w\">                     </span><span class=\"c\"># integer value</span><span class=\"w\">\\n</span><span class=\"w\"></span><span class=\"nt\">floatingValue</span><span class=\"p\">:</span><span class=\"w\"> </span><span class=\"m\">1</span><span class=\"w\">                     </span><span class=\"c\"># floating vale</span><span class=\"w\">\\n</span><span class=\"w\">\\n</span><span class=\"w\"></span><span class=\"nt\">stringValue</span><span class=\"p\">:</span><span class=\"w\"> </span><span class=\"s2\">&#34;456&#34;</span><span class=\"w\">                   </span><span class=\"c\"># string with double quotes</span><span class=\"w\">\\n</span><span class=\"w\"></span><span class=\"nt\">stringValue</span><span class=\"p\">:</span><span class=\"w\"> </span><span class=\"s1\">&#39;abc&#39;</span><span class=\"w\">                  </span><span class=\"c\"># string with single quotes</span><span class=\"w\">\\n</span><span class=\"w\"></span><span class=\"nt\">stringValue</span><span class=\"p\">:</span><span class=\"w\"> </span><span class=\"l\">wer                  </span><span class=\"w\"> </span><span class=\"c\"># string without quotes</span><span class=\"w\">\\n</span><span class=\"w\">\\n</span><span class=\"w\"></span><span class=\"l\">booleanValue:true                  </span><span class=\"w\"> </span><span class=\"c\"># boolean values - true or false</span><span class=\"w\">\\n</span><span class=\"w\">\\n</span><span class=\"w\">\\n</span><span class=\"w\"></span><span class=\"c\"># Multiline string with literal block syntax -preserved new lines</span><span class=\"w\">\\n</span><span class=\"w\"></span><span class=\"nt\">string1</span><span class=\"p\">:</span><span class=\"w\"> </span><span class=\"p\">|</span><span class=\"sd\">\\n</span><span class=\"sd\">   Line1\\n</span><span class=\"sd\">   line2\\n</span><span class=\"sd\">   &#34;line3&#34;</span><span class=\"w\">   \\n</span><span class=\"w\">  </span><span class=\"l\">line4</span><span class=\"w\">\\n</span><span class=\"w\">\\n</span><span class=\"w\"></span><span class=\"c\"># Multiline strings with folded block syntax - new lines are not preserved, leading and trailing spaces are ignore</span><span class=\"w\">\\n</span><span class=\"w\">  </span><span class=\"nt\">string1</span><span class=\"p\">:</span><span class=\"w\"> </span><span class=\"p\">&gt;</span><span class=\"sd\">\\n</span><span class=\"sd\">   Line1\\n</span><span class=\"sd\">   line2\\n</span><span class=\"sd\">   &#34;line3&#34;</span><span class=\"w\">   \\n</span><span class=\"w\">  </span><span class=\"l\">line4</span><span class=\"w\">\\n</span><span class=\"w\"></span><span class=\"c\"># Collection sequence data types</span><span class=\"w\">\\n</span><span class=\"w\"> </span><span class=\"c\"># sequence arraylist example</span><span class=\"w\">\\n</span><span class=\"w\"> </span>- <span class=\"l\">One</span><span class=\"w\">\\n</span><span class=\"w\"> </span>- <span class=\"l\">two</span><span class=\"w\">\\n</span><span class=\"w\"> </span>- <span class=\"l\">Three</span><span class=\"w\">\\n</span><span class=\"w\">\\n</span><span class=\"w\">  </span><span class=\"c\"># another way of sequence  syntax example</span><span class=\"w\">\\n</span><span class=\"w\">  </span><span class=\"p\">[</span><span class=\"l\">one, two , three]</span><span class=\"w\">\\n</span><span class=\"w\">\\n</span><span class=\"w\"></span><span class=\"c\">### dictionary</span><span class=\"w\">\\n</span><span class=\"w\">  </span><span class=\"nt\">mysqldatabase</span><span class=\"p\">:</span><span class=\"w\">\\n</span><span class=\"w\">    </span><span class=\"nt\">hostname</span><span class=\"p\">:</span><span class=\"w\"> </span><span class=\"l\">localhost</span><span class=\"w\">\\n</span><span class=\"w\">    </span><span class=\"nt\">port</span><span class=\"p\">:</span><span class=\"w\"> </span><span class=\"m\">3012</span><span class=\"w\">\\n</span><span class=\"w\">    </span><span class=\"nt\">username</span><span class=\"p\">:</span><span class=\"w\"> </span><span class=\"l\">root</span><span class=\"w\">\\n</span><span class=\"w\">    </span><span class=\"nt\">password</span><span class=\"p\">:</span><span class=\"w\"> </span><span class=\"l\">root</span><span class=\"w\">\\n</span></code></pre></div>\\n</div>\\n<div class=\"docs-navigation d-flex justify-content-between\">\\n<a href=\"https://www.w3schools.io/file/yaml-java-read-write/\">\\n<div class=\"card my-1\">\\n<div class=\"card-body py-2\">\\n← YAML - Java parser\\n</div>\\n</div>\\n</a>\\n<a class=\"ml-auto\" href=\"https://www.w3schools.io/file/markdown-slack/\">\\n<div class=\"card my-1\">\\n<div class=\"card-body py-2\">\\nMarkdown - Slack →\\n</div>\\n</div>\\n</a>\\n</div>\\n<div style=\"text-align:center;padding-top:20px\">\\n</div>\\n</main>\\n</div>\\n<footer class=\"footer text-muted\" id=\"footer\">\\n<div class=\"wrap container-fluid\">\\n<div class=\"row justify-content-center text-center\">\\n<div class=\"col-lg-2 col-md-2 col-sm-4 col-xs-6\">\\n<p> About Us</p>\\n<ul>\\n<li> <a href=\"https://www.w3schools.io/about/\">\\nAbout</a></li>\\n<li> <a href=\"https://www.w3schools.io/privacy-policy/\">\\nPrivacy Policy</a></li>\\n<li> <a href=\"https://www.w3schools.io/copyright/\">\\nCopyright</a></li>\\n</ul>\\n</div>\\n<div class=\"col-lg-2 col-md-2 col-sm-4 col-xs-6\">\\n<p> Library</p>\\n<ul>\\n<li> <a href=\"https://www.w3schools.io/css/\">\\nCSS</a></li>\\n<li> <a href=\"https://www.w3schools.io/javascript/\">\\nJavascript</a></li>\\n<li> <a href=\"https://www.w3schools.io/file/\">\\nFile Extension</a></li>\\n</ul>\\n</div>\\n<div class=\"col-lg-2 col-md-2 col-sm-4 col-xs-6\">\\n<p> Others</p>\\n<ul>\\n<li> <a href=\"https://www.w3schools.io/learn/angular-tutorials\">\\nAngular</a></li>\\n<li> <a href=\"https://www.w3schools.io/language/\">\\nlanguages</a></li>\\n<li> <a href=\"https://www.w3schools.io/file/yaml-introduction/\">\\nyaml</a></li>\\n</ul>\\n</div>\\n<div class=\"col-lg-3 col-md-3 col-sm-4 col-xs-6\">\\n<p>Social</p>\\n<ul>\\n<li><a href=\"https://www.facebook.com/w3schoolsio\" alt=\"Facebook w3schools page\">Facebook</a></li><a href=\"https://www.facebook.com/w3schoolsio\" alt=\"Facebook w3schools page\">\\n</a><li><a href=\"https://www.facebook.com/w3schoolsio\" alt=\"Facebook w3schools page\"> </a><a href=\"#\" alt=\"Twitter w3schools page\">\\nTwitter</a></li>\\n<li> <a href=\"https://www.linkedin.com/company/w3schools-io\" alt=\"Linkedin w3schools page\">\\nLinkedin</a></li>\\n</ul>\\n</div>\\n</div>\\n</div>\\n<div class=\"footer-bottom\">\\n<div class=\"container-fluid\">\\n<p class=\"text-center\"> Copyright © 2022 w3schools.io All Rights Reserved </p>\\n<div class=\"pull-right\">\\n<ul class=\"nav nav-pills payments\">\\n<li> </li>\\n<li><i class=\"fa fa-cc-paypal\"></i></li>\\n<li><i class=\"fa fa-cc-mastercard\"></i></li>\\n<li><i class=\"fa fa-cc-amex\"></i></li>\\n<li><i class=\"fa fa-cc-visa\"></i></li>\\n</ul>\\n</div>\\n</div>\\n</div>\\n</footer></div>\\n\\n<script src=\"https://www.w3schools.io/main.9a3ba64e83c7610ae03254bc14ce9b0ae2a66b438c3956606a16151470f02d3e8a2ba54900b8a346ba5fab5ad612cedc558101d124b16145488152fe04655d39.js\" integrity=\"sha512-mjumToPHYQrgMlS8FM6bCuKma0OMOVZgahYVFHDwLT6KK6VJALijRrpfq1rWEs7cVYEB0SSxYUVIgVL+BGVdOQ==\" crossorigin=\"anonymous\" defer=\"\"></script>\\n\\n<script type=\\'text/javascript\\' style=\\'display:none;\\' async>\\n__ez.queue.addFile(\\'/detroitchicago/edmonton.webp\\', \\'/detroitchicago/edmonton.webp?a=a&cb=0&shcb=34\\', true, [\\'/detroitchicago/minneapolis.js\\'], true, false, false, false);\\n__ez.queue.addFile(\\'/porpoiseant/jellyfish.webp\\', \\'/porpoiseant/jellyfish.webp?a=a&cb=0&shcb=34\\', false, [], true, false, false, false);\\n</script>\\n\\n<script>var _audins_dom=\"w3schools_io\",_audins_did=295167;__ez.queue.addDelayFunc(\"audins.js\",\"__ez.script.add\", \"//go.ezoic.net/detroitchicago/audins.js?cb=195-0\");</script><noscript><div style=\"display:none;\"><img src=\"//pixel.quantserve.com/pixel/p-31iz6hfFutd16.gif?labels=Domain.w3schools_io,DomainId.295167\" border=\"0\" height=\"1\" width=\"1\" alt=\"Quantcast\"/></div></noscript>\\n<script type=\"text/javascript\" data-cfasync=\"false\"></script>\\n<script>__ez.queue.addFile(\\'/tardisrocinante/vitals.js\\', \\'/tardisrocinante/vitals.js?gcb=0&cb=3\\', false, [\\'/detroitchicago/minneapolis.js\\'], true, false, true, false);</script>\\n<script>__ez.queue.addFile(\\'/beardeddragon/drake.js\\', \\'/beardeddragon/drake.js?gcb=0&cb=4\\', false, [], true, false, true, false);</script></body></html>'"
      ]
     },
     "execution_count": 3,
     "metadata": {},
     "output_type": "execute_result"
    }
   ],
   "source": [
    "site_w3.text"
   ]
  },
  {
   "cell_type": "code",
   "execution_count": 4,
   "metadata": {},
   "outputs": [],
   "source": [
    "tags = BeautifulSoup(site_w3.text, \"html5lib\")"
   ]
  },
  {
   "cell_type": "code",
   "execution_count": 5,
   "metadata": {},
   "outputs": [
    {
     "data": {
      "text/plain": [
       "'YAML sample example file with examples'"
      ]
     },
     "execution_count": 5,
     "metadata": {},
     "output_type": "execute_result"
    }
   ],
   "source": [
    "title = tags.find(\"title\")\n",
    "title.text"
   ]
  },
  {
   "cell_type": "code",
   "execution_count": 6,
   "metadata": {},
   "outputs": [
    {
     "data": {
      "text/plain": [
       "['\\n---  # yaml document begining\\n# comment syntax\\n\\n# basic syntax - key and value separated by colon and space before the value\\nkey: value\\n\\n# Scalar data types\\nintegerValue: 1                     # integer value\\nfloatingValue: 1                     # floating vale\\n\\nstringValue: \"456\"                   # string with double quotes\\nstringValue: \\'abc\\'                  # string with single quotes\\nstringValue: wer                   # string without quotes\\n\\nbooleanValue:true                   # boolean values - true or false\\n\\n\\n# Multiline string with literal block syntax -preserved new lines\\nstring1: |\\n   Line1\\n   line2\\n   \"line3\"   \\n  line4\\n\\n# Multiline strings with folded block syntax - new lines are not preserved, leading and trailing spaces are ignore\\n  string1: >\\n   Line1\\n   line2\\n   \"line3\"   \\n  line4\\n# Collection sequence data types\\n # sequence arraylist example\\n - One\\n - two\\n - Three\\n\\n  # another way of sequence  syntax example\\n  [one, two , three]\\n\\n### dictionary\\n  mysqldatabase:\\n    hostname: localhost\\n    port: 3012\\n    username: root\\n    password: root\\n']"
      ]
     },
     "execution_count": 6,
     "metadata": {},
     "output_type": "execute_result"
    }
   ],
   "source": [
    "subtitles = tags.find_all(\"code\", attrs = {\"class\" : \"language-Yaml\"})\n",
    "[code.text for code in subtitles]"
   ]
  },
  {
   "cell_type": "code",
   "execution_count": 9,
   "metadata": {
    "collapsed": true
   },
   "outputs": [
    {
     "data": {
      "text/plain": [
       "['# yaml document begining',\n",
       " '# comment syntax',\n",
       " '# basic syntax - key and value separated by colon and space before the value',\n",
       " '# Scalar data types',\n",
       " '# integer value',\n",
       " '# floating vale',\n",
       " '# string with double quotes',\n",
       " '# string with single quotes',\n",
       " '# string without quotes',\n",
       " '# boolean values - true or false',\n",
       " '# Multiline string with literal block syntax -preserved new lines',\n",
       " '# Multiline strings with folded block syntax - new lines are not preserved, leading and trailing spaces are ignore',\n",
       " '# Collection sequence data types',\n",
       " '# sequence arraylist example',\n",
       " '# another way of sequence  syntax example',\n",
       " '### dictionary']"
      ]
     },
     "execution_count": 9,
     "metadata": {},
     "output_type": "execute_result"
    }
   ],
   "source": [
    "subtitles_comment = tags.find_all(\"span\", attrs = {\"class\" : \"c\"})\n",
    "[span.text for span in subtitles_comment]"
   ]
  },
  {
   "cell_type": "code",
   "execution_count": 11,
   "metadata": {
    "collapsed": true
   },
   "outputs": [
    {
     "data": {
      "text/plain": [
       "['yaml document begining',\n",
       " 'comment syntax',\n",
       " 'basic syntax key and value separated by colon and space before the value',\n",
       " 'Scalar data types',\n",
       " 'integer value',\n",
       " 'floating vale',\n",
       " 'string with double quotes',\n",
       " 'string with single quotes',\n",
       " 'string without quotes',\n",
       " 'boolean values true or false',\n",
       " 'Multiline string with literal block syntax preserved new lines',\n",
       " 'Multiline strings with folded block syntax new lines are not preserved leading and trailing spaces are ignore',\n",
       " 'Collection sequence data types',\n",
       " 'sequence arraylist example',\n",
       " 'another way of sequence syntax example',\n",
       " 'dictionary']"
      ]
     },
     "execution_count": 11,
     "metadata": {},
     "output_type": "execute_result"
    }
   ],
   "source": [
    "lista_comentarios = [] \n",
    "for j in [span.text for span in subtitles_comment]:\n",
    "    lista_comentarios.append(findall(r\"\\w+\", j)) \n",
    "comentarios_tratados = [] \n",
    "\n",
    "for l in lista_comentarios:\n",
    "    comentarios_tratados.append(\" \".join(l)) \n",
    "comentarios_tratados"
   ]
  },
  {
   "cell_type": "code",
   "execution_count": 17,
   "metadata": {},
   "outputs": [],
   "source": [
    "dict2yaml = {\n",
    "    \"comentarios_tratados\" : [\n",
    "        comentarios_tratados\n",
    "    ]\n",
    "}"
   ]
  },
  {
   "cell_type": "code",
   "execution_count": 18,
   "metadata": {},
   "outputs": [],
   "source": [
    "with open(\"yaml_exercicio.yml\", \"w\") as file:\n",
    "    dump(dict2yaml, file)"
   ]
  }
 ],
 "metadata": {
  "kernelspec": {
   "display_name": "Python 3",
   "language": "python",
   "name": "python3"
  },
  "language_info": {
   "codemirror_mode": {
    "name": "ipython",
    "version": 3
   },
   "file_extension": ".py",
   "mimetype": "text/x-python",
   "name": "python",
   "nbconvert_exporter": "python",
   "pygments_lexer": "ipython3",
   "version": "3.8.5"
  }
 },
 "nbformat": 4,
 "nbformat_minor": 4
}
