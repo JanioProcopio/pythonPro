{
 "cells": [
  {
   "cell_type": "code",
   "execution_count": 3,
   "id": "1a264f4f",
   "metadata": {},
   "outputs": [
    {
     "name": "stdout",
     "output_type": "stream",
     "text": [
      "Qual valor Podemos Verificar :10\n",
      "1\n",
      "FiizzBuzz\n",
      "2\n",
      "FiizzBuzz\n",
      "3\n",
      "FiizzBuzz\n",
      "4\n",
      "FiizzBuzz\n",
      "5 [E multiplo de 5\n",
      "Fizz\n",
      "6\n",
      "FiizzBuzz\n",
      "7 É Multipli de 7\n",
      "Buzz\n",
      "8\n",
      "FiizzBuzz\n",
      "9\n",
      "FiizzBuzz\n",
      "10 [E multiplo de 5\n",
      "Fizz\n"
     ]
    }
   ],
   "source": [
    "n=int(input(\"Qual valor Podemos Verificar :\"))\n",
    "for i in range(1,n+1):\n",
    "    if ((i % 5 == 0) and (i % 7 == 0)):\n",
    "        print (i, \"É Multipli de 5 e 7\")\n",
    "    elif (i % 5 == 0):\n",
    "        print (i, \"[E multiplo de 5\")\n",
    "        print (\"Fizz\")\n",
    "    elif (i % 7 == 0):\n",
    "        print (i, \"É Multipli de 7\")\n",
    "        print (\"Buzz\")\n",
    "    else:\n",
    "        print (i)\n",
    "        print (\"FiizzBuzz\")"
   ]
  },
  {
   "cell_type": "code",
   "execution_count": null,
   "id": "9b701be2",
   "metadata": {},
   "outputs": [],
   "source": []
  }
 ],
 "metadata": {
  "kernelspec": {
   "display_name": "Python 3 (ipykernel)",
   "language": "python",
   "name": "python3"
  },
  "language_info": {
   "codemirror_mode": {
    "name": "ipython",
    "version": 3
   },
   "file_extension": ".py",
   "mimetype": "text/x-python",
   "name": "python",
   "nbconvert_exporter": "python",
   "pygments_lexer": "ipython3",
   "version": "3.9.12"
  }
 },
 "nbformat": 4,
 "nbformat_minor": 5
}
